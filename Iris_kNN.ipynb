{
  "nbformat": 4,
  "nbformat_minor": 0,
  "metadata": {
    "colab": {
      "name": "Iris_kNN.ipynb",
      "provenance": [],
      "authorship_tag": "ABX9TyOuRudZ/QcxcNpDXCDNqPWl",
      "include_colab_link": true
    },
    "kernelspec": {
      "name": "python3",
      "display_name": "Python 3"
    },
    "language_info": {
      "name": "python"
    }
  },
  "cells": [
    {
      "cell_type": "markdown",
      "metadata": {
        "id": "view-in-github",
        "colab_type": "text"
      },
      "source": [
        "<a href=\"https://colab.research.google.com/github/Dannyyang0329/ML_Iris_kNN/blob/main/Iris_kNN.ipynb\" target=\"_parent\"><img src=\"https://colab.research.google.com/assets/colab-badge.svg\" alt=\"Open In Colab\"/></a>"
      ]
    },
    {
      "cell_type": "markdown",
      "source": [
        "# Machine Learning - kNN using Iris as sample data\n"
      ],
      "metadata": {
        "id": "p-JVVcDnkamR"
      }
    },
    {
      "cell_type": "markdown",
      "source": [
        "## Step 1 - Import packages"
      ],
      "metadata": {
        "id": "x-r4yJvjlS9g"
      }
    },
    {
      "cell_type": "code",
      "execution_count": 1,
      "metadata": {
        "id": "Hm26jHhvkZJ7"
      },
      "outputs": [],
      "source": [
        "import pandas as pd\n",
        "import numpy as np\n",
        "import matplotlib.pyplot as plt"
      ]
    },
    {
      "cell_type": "markdown",
      "source": [
        "## Step 2 - Load Dataset into a Pandas DataFrame"
      ],
      "metadata": {
        "id": "1dUBMpISlo9T"
      }
    },
    {
      "cell_type": "code",
      "source": [
        "df_iris = pd.read_csv(\"\")"
      ],
      "metadata": {
        "id": "FjS4GSFmmNOQ"
      },
      "execution_count": null,
      "outputs": []
    }
  ]
}